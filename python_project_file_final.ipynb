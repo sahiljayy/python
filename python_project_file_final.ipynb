{
 "cells": [
  {
   "cell_type": "code",
   "execution_count": 1,
   "id": "86138a02",
   "metadata": {},
   "outputs": [],
   "source": [
    "import numpy as np\n",
    "import pandas as pd\n",
    "\n",
    "import matplotlib.pyplot as plt\n",
    "import seaborn as sns\n",
    "\n",
    "pd.set_option('display.float_format', lambda x: '%.3f' % x)"
   ]
  },
  {
   "cell_type": "code",
   "execution_count": 2,
   "id": "3e7135a3",
   "metadata": {},
   "outputs": [],
   "source": [
    "df = pd.read_csv('Week5_Project_foodhub_order.csv')"
   ]
  },
  {
   "cell_type": "code",
   "execution_count": 3,
   "id": "2c52e42a",
   "metadata": {},
   "outputs": [
    {
     "data": {
      "text/html": [
       "<div>\n",
       "<style scoped>\n",
       "    .dataframe tbody tr th:only-of-type {\n",
       "        vertical-align: middle;\n",
       "    }\n",
       "\n",
       "    .dataframe tbody tr th {\n",
       "        vertical-align: top;\n",
       "    }\n",
       "\n",
       "    .dataframe thead th {\n",
       "        text-align: right;\n",
       "    }\n",
       "</style>\n",
       "<table border=\"1\" class=\"dataframe\">\n",
       "  <thead>\n",
       "    <tr style=\"text-align: right;\">\n",
       "      <th></th>\n",
       "      <th>order_id</th>\n",
       "      <th>customer_id</th>\n",
       "      <th>restaurant_name</th>\n",
       "      <th>cuisine_type</th>\n",
       "      <th>cost_of_the_order</th>\n",
       "      <th>day_of_the_week</th>\n",
       "      <th>rating</th>\n",
       "      <th>food_preparation_time</th>\n",
       "      <th>delivery_time</th>\n",
       "    </tr>\n",
       "  </thead>\n",
       "  <tbody>\n",
       "    <tr>\n",
       "      <th>0</th>\n",
       "      <td>1477147</td>\n",
       "      <td>337525</td>\n",
       "      <td>Hangawi</td>\n",
       "      <td>Korean</td>\n",
       "      <td>30.750</td>\n",
       "      <td>Weekend</td>\n",
       "      <td>Not given</td>\n",
       "      <td>25</td>\n",
       "      <td>20</td>\n",
       "    </tr>\n",
       "    <tr>\n",
       "      <th>1</th>\n",
       "      <td>1477685</td>\n",
       "      <td>358141</td>\n",
       "      <td>Blue Ribbon Sushi Izakaya</td>\n",
       "      <td>Japanese</td>\n",
       "      <td>12.080</td>\n",
       "      <td>Weekend</td>\n",
       "      <td>Not given</td>\n",
       "      <td>25</td>\n",
       "      <td>23</td>\n",
       "    </tr>\n",
       "    <tr>\n",
       "      <th>2</th>\n",
       "      <td>1477070</td>\n",
       "      <td>66393</td>\n",
       "      <td>Cafe Habana</td>\n",
       "      <td>Mexican</td>\n",
       "      <td>12.230</td>\n",
       "      <td>Weekday</td>\n",
       "      <td>5</td>\n",
       "      <td>23</td>\n",
       "      <td>28</td>\n",
       "    </tr>\n",
       "    <tr>\n",
       "      <th>3</th>\n",
       "      <td>1477334</td>\n",
       "      <td>106968</td>\n",
       "      <td>Blue Ribbon Fried Chicken</td>\n",
       "      <td>American</td>\n",
       "      <td>29.200</td>\n",
       "      <td>Weekend</td>\n",
       "      <td>3</td>\n",
       "      <td>25</td>\n",
       "      <td>15</td>\n",
       "    </tr>\n",
       "    <tr>\n",
       "      <th>4</th>\n",
       "      <td>1478249</td>\n",
       "      <td>76942</td>\n",
       "      <td>Dirty Bird to Go</td>\n",
       "      <td>American</td>\n",
       "      <td>11.590</td>\n",
       "      <td>Weekday</td>\n",
       "      <td>4</td>\n",
       "      <td>25</td>\n",
       "      <td>24</td>\n",
       "    </tr>\n",
       "    <tr>\n",
       "      <th>...</th>\n",
       "      <td>...</td>\n",
       "      <td>...</td>\n",
       "      <td>...</td>\n",
       "      <td>...</td>\n",
       "      <td>...</td>\n",
       "      <td>...</td>\n",
       "      <td>...</td>\n",
       "      <td>...</td>\n",
       "      <td>...</td>\n",
       "    </tr>\n",
       "    <tr>\n",
       "      <th>1893</th>\n",
       "      <td>1476701</td>\n",
       "      <td>292602</td>\n",
       "      <td>Chipotle Mexican Grill $1.99 Delivery</td>\n",
       "      <td>Mexican</td>\n",
       "      <td>22.310</td>\n",
       "      <td>Weekend</td>\n",
       "      <td>5</td>\n",
       "      <td>31</td>\n",
       "      <td>17</td>\n",
       "    </tr>\n",
       "    <tr>\n",
       "      <th>1894</th>\n",
       "      <td>1477421</td>\n",
       "      <td>397537</td>\n",
       "      <td>The Smile</td>\n",
       "      <td>American</td>\n",
       "      <td>12.180</td>\n",
       "      <td>Weekend</td>\n",
       "      <td>5</td>\n",
       "      <td>31</td>\n",
       "      <td>19</td>\n",
       "    </tr>\n",
       "    <tr>\n",
       "      <th>1895</th>\n",
       "      <td>1477819</td>\n",
       "      <td>35309</td>\n",
       "      <td>Blue Ribbon Sushi</td>\n",
       "      <td>Japanese</td>\n",
       "      <td>25.220</td>\n",
       "      <td>Weekday</td>\n",
       "      <td>Not given</td>\n",
       "      <td>31</td>\n",
       "      <td>24</td>\n",
       "    </tr>\n",
       "    <tr>\n",
       "      <th>1896</th>\n",
       "      <td>1477513</td>\n",
       "      <td>64151</td>\n",
       "      <td>Jack's Wife Freda</td>\n",
       "      <td>Mediterranean</td>\n",
       "      <td>12.180</td>\n",
       "      <td>Weekday</td>\n",
       "      <td>5</td>\n",
       "      <td>23</td>\n",
       "      <td>31</td>\n",
       "    </tr>\n",
       "    <tr>\n",
       "      <th>1897</th>\n",
       "      <td>1478056</td>\n",
       "      <td>120353</td>\n",
       "      <td>Blue Ribbon Sushi</td>\n",
       "      <td>Japanese</td>\n",
       "      <td>19.450</td>\n",
       "      <td>Weekend</td>\n",
       "      <td>Not given</td>\n",
       "      <td>28</td>\n",
       "      <td>24</td>\n",
       "    </tr>\n",
       "  </tbody>\n",
       "</table>\n",
       "<p>1898 rows × 9 columns</p>\n",
       "</div>"
      ],
      "text/plain": [
       "      order_id  customer_id                        restaurant_name  \\\n",
       "0      1477147       337525                                Hangawi   \n",
       "1      1477685       358141              Blue Ribbon Sushi Izakaya   \n",
       "2      1477070        66393                            Cafe Habana   \n",
       "3      1477334       106968              Blue Ribbon Fried Chicken   \n",
       "4      1478249        76942                       Dirty Bird to Go   \n",
       "...        ...          ...                                    ...   \n",
       "1893   1476701       292602  Chipotle Mexican Grill $1.99 Delivery   \n",
       "1894   1477421       397537                              The Smile   \n",
       "1895   1477819        35309                      Blue Ribbon Sushi   \n",
       "1896   1477513        64151                      Jack's Wife Freda   \n",
       "1897   1478056       120353                      Blue Ribbon Sushi   \n",
       "\n",
       "       cuisine_type  cost_of_the_order day_of_the_week     rating  \\\n",
       "0            Korean             30.750         Weekend  Not given   \n",
       "1          Japanese             12.080         Weekend  Not given   \n",
       "2           Mexican             12.230         Weekday          5   \n",
       "3          American             29.200         Weekend          3   \n",
       "4          American             11.590         Weekday          4   \n",
       "...             ...                ...             ...        ...   \n",
       "1893        Mexican             22.310         Weekend          5   \n",
       "1894       American             12.180         Weekend          5   \n",
       "1895       Japanese             25.220         Weekday  Not given   \n",
       "1896  Mediterranean             12.180         Weekday          5   \n",
       "1897       Japanese             19.450         Weekend  Not given   \n",
       "\n",
       "      food_preparation_time  delivery_time  \n",
       "0                        25             20  \n",
       "1                        25             23  \n",
       "2                        23             28  \n",
       "3                        25             15  \n",
       "4                        25             24  \n",
       "...                     ...            ...  \n",
       "1893                     31             17  \n",
       "1894                     31             19  \n",
       "1895                     31             24  \n",
       "1896                     23             31  \n",
       "1897                     28             24  \n",
       "\n",
       "[1898 rows x 9 columns]"
      ]
     },
     "execution_count": 3,
     "metadata": {},
     "output_type": "execute_result"
    }
   ],
   "source": [
    "df"
   ]
  },
  {
   "cell_type": "code",
   "execution_count": 5,
   "id": "b5670d75",
   "metadata": {},
   "outputs": [
    {
     "name": "stdout",
     "output_type": "stream",
     "text": [
      "There are 1898 rows and 9 columns present in the data\n"
     ]
    }
   ],
   "source": [
    "print(\"There are\", df.shape[0], \"rows and\", df.shape[1], \"columns present in the data\")"
   ]
  },
  {
   "cell_type": "code",
   "execution_count": 9,
   "id": "4be621a6",
   "metadata": {},
   "outputs": [
    {
     "name": "stdout",
     "output_type": "stream",
     "text": [
      "<class 'pandas.core.frame.DataFrame'>\n",
      "RangeIndex: 1898 entries, 0 to 1897\n",
      "Data columns (total 9 columns):\n",
      " #   Column                 Non-Null Count  Dtype  \n",
      "---  ------                 --------------  -----  \n",
      " 0   order_id               1898 non-null   int64  \n",
      " 1   customer_id            1898 non-null   int64  \n",
      " 2   restaurant_name        1898 non-null   object \n",
      " 3   cuisine_type           1898 non-null   object \n",
      " 4   cost_of_the_order      1898 non-null   float64\n",
      " 5   day_of_the_week        1898 non-null   object \n",
      " 6   rating                 1898 non-null   object \n",
      " 7   food_preparation_time  1898 non-null   int64  \n",
      " 8   delivery_time          1898 non-null   int64  \n",
      "dtypes: float64(1), int64(4), object(4)\n",
      "memory usage: 133.6+ KB\n"
     ]
    }
   ],
   "source": [
    "df.info()"
   ]
  },
  {
   "cell_type": "markdown",
   "id": "ae15ffeb",
   "metadata": {},
   "source": [
    "#### Observations:\n",
    "* There are 5 numerical columns and 4 object type columns in the data"
   ]
  },
  {
   "cell_type": "code",
   "execution_count": 10,
   "id": "c0f23df9",
   "metadata": {},
   "outputs": [
    {
     "data": {
      "text/plain": [
       "order_id                 0\n",
       "customer_id              0\n",
       "restaurant_name          0\n",
       "cuisine_type             0\n",
       "cost_of_the_order        0\n",
       "day_of_the_week          0\n",
       "rating                   0\n",
       "food_preparation_time    0\n",
       "delivery_time            0\n",
       "dtype: int64"
      ]
     },
     "execution_count": 10,
     "metadata": {},
     "output_type": "execute_result"
    }
   ],
   "source": [
    "df.isnull().sum()"
   ]
  },
  {
   "cell_type": "markdown",
   "id": "97181eb8",
   "metadata": {},
   "source": [
    "#### Observations:\n",
    "* No missing values present in the given dataset"
   ]
  },
  {
   "cell_type": "code",
   "execution_count": 12,
   "id": "11d39f41",
   "metadata": {},
   "outputs": [
    {
     "data": {
      "text/html": [
       "<div>\n",
       "<style scoped>\n",
       "    .dataframe tbody tr th:only-of-type {\n",
       "        vertical-align: middle;\n",
       "    }\n",
       "\n",
       "    .dataframe tbody tr th {\n",
       "        vertical-align: top;\n",
       "    }\n",
       "\n",
       "    .dataframe thead th {\n",
       "        text-align: right;\n",
       "    }\n",
       "</style>\n",
       "<table border=\"1\" class=\"dataframe\">\n",
       "  <thead>\n",
       "    <tr style=\"text-align: right;\">\n",
       "      <th></th>\n",
       "      <th>count</th>\n",
       "      <th>mean</th>\n",
       "      <th>std</th>\n",
       "      <th>min</th>\n",
       "      <th>25%</th>\n",
       "      <th>50%</th>\n",
       "      <th>75%</th>\n",
       "      <th>max</th>\n",
       "    </tr>\n",
       "  </thead>\n",
       "  <tbody>\n",
       "    <tr>\n",
       "      <th>order_id</th>\n",
       "      <td>1898.000</td>\n",
       "      <td>1477495.500</td>\n",
       "      <td>548.050</td>\n",
       "      <td>1476547.000</td>\n",
       "      <td>1477021.250</td>\n",
       "      <td>1477495.500</td>\n",
       "      <td>1477969.750</td>\n",
       "      <td>1478444.000</td>\n",
       "    </tr>\n",
       "    <tr>\n",
       "      <th>customer_id</th>\n",
       "      <td>1898.000</td>\n",
       "      <td>171168.478</td>\n",
       "      <td>113698.140</td>\n",
       "      <td>1311.000</td>\n",
       "      <td>77787.750</td>\n",
       "      <td>128600.000</td>\n",
       "      <td>270525.000</td>\n",
       "      <td>405334.000</td>\n",
       "    </tr>\n",
       "    <tr>\n",
       "      <th>cost_of_the_order</th>\n",
       "      <td>1898.000</td>\n",
       "      <td>16.499</td>\n",
       "      <td>7.484</td>\n",
       "      <td>4.470</td>\n",
       "      <td>12.080</td>\n",
       "      <td>14.140</td>\n",
       "      <td>22.297</td>\n",
       "      <td>35.410</td>\n",
       "    </tr>\n",
       "    <tr>\n",
       "      <th>food_preparation_time</th>\n",
       "      <td>1898.000</td>\n",
       "      <td>27.372</td>\n",
       "      <td>4.632</td>\n",
       "      <td>20.000</td>\n",
       "      <td>23.000</td>\n",
       "      <td>27.000</td>\n",
       "      <td>31.000</td>\n",
       "      <td>35.000</td>\n",
       "    </tr>\n",
       "    <tr>\n",
       "      <th>delivery_time</th>\n",
       "      <td>1898.000</td>\n",
       "      <td>24.162</td>\n",
       "      <td>4.973</td>\n",
       "      <td>15.000</td>\n",
       "      <td>20.000</td>\n",
       "      <td>25.000</td>\n",
       "      <td>28.000</td>\n",
       "      <td>33.000</td>\n",
       "    </tr>\n",
       "  </tbody>\n",
       "</table>\n",
       "</div>"
      ],
      "text/plain": [
       "                         count        mean        std         min         25%  \\\n",
       "order_id              1898.000 1477495.500    548.050 1476547.000 1477021.250   \n",
       "customer_id           1898.000  171168.478 113698.140    1311.000   77787.750   \n",
       "cost_of_the_order     1898.000      16.499      7.484       4.470      12.080   \n",
       "food_preparation_time 1898.000      27.372      4.632      20.000      23.000   \n",
       "delivery_time         1898.000      24.162      4.973      15.000      20.000   \n",
       "\n",
       "                              50%         75%         max  \n",
       "order_id              1477495.500 1477969.750 1478444.000  \n",
       "customer_id            128600.000  270525.000  405334.000  \n",
       "cost_of_the_order          14.140      22.297      35.410  \n",
       "food_preparation_time      27.000      31.000      35.000  \n",
       "delivery_time              25.000      28.000      33.000  "
      ]
     },
     "execution_count": 12,
     "metadata": {},
     "output_type": "execute_result"
    }
   ],
   "source": [
    "df.describe().T"
   ]
  },
  {
   "cell_type": "markdown",
   "id": "9d78eb81",
   "metadata": {},
   "source": [
    "#### Observations:\n",
    "* The minimum time it takes for food to be prepared once an order is placed is 20 minutes\n",
    "* The average time it takes for food to be prepared once an order is placed is around 27 minutes\n",
    "* The maximum time it takes for food to be prepared once an order is placed is 35 minutes"
   ]
  },
  {
   "cell_type": "code",
   "execution_count": 13,
   "id": "171f9b17",
   "metadata": {},
   "outputs": [
    {
     "data": {
      "text/plain": [
       "Not given    736\n",
       "5            588\n",
       "4            386\n",
       "3            188\n",
       "Name: rating, dtype: int64"
      ]
     },
     "execution_count": 13,
     "metadata": {},
     "output_type": "execute_result"
    }
   ],
   "source": [
    "df.rating.value_counts()"
   ]
  },
  {
   "cell_type": "markdown",
   "id": "475d9bc0",
   "metadata": {},
   "source": [
    "#### Observations:\n",
    "* From the given data set, 736 orders were not rated in the ratings column"
   ]
  },
  {
   "cell_type": "code",
   "execution_count": 15,
   "id": "8a3a434e",
   "metadata": {},
   "outputs": [
    {
     "data": {
      "text/plain": [
       "1898"
      ]
     },
     "execution_count": 15,
     "metadata": {},
     "output_type": "execute_result"
    }
   ],
   "source": [
    "df['order_id'].nunique()"
   ]
  },
  {
   "cell_type": "markdown",
   "id": "119522e2",
   "metadata": {},
   "source": [
    "####  Observations: \n",
    "* Each individual order_id is a unique number"
   ]
  },
  {
   "cell_type": "code",
   "execution_count": 17,
   "id": "70ca2601",
   "metadata": {},
   "outputs": [
    {
     "data": {
      "text/plain": [
       "698"
      ]
     },
     "execution_count": 17,
     "metadata": {},
     "output_type": "execute_result"
    }
   ],
   "source": [
    "df['customer_id'].duplicated().sum()"
   ]
  },
  {
   "cell_type": "markdown",
   "id": "9f3135a5",
   "metadata": {},
   "source": [
    "#### Observations:\n",
    "* Number of repeating customers is equal to 698"
   ]
  },
  {
   "cell_type": "code",
   "execution_count": 18,
   "id": "af6002da",
   "metadata": {},
   "outputs": [
    {
     "data": {
      "text/plain": [
       "178"
      ]
     },
     "execution_count": 18,
     "metadata": {},
     "output_type": "execute_result"
    }
   ],
   "source": [
    "df.restaurant_name.nunique()"
   ]
  },
  {
   "cell_type": "markdown",
   "id": "fb6b408b",
   "metadata": {},
   "source": [
    "#### Observations: \n",
    "* There are 178 unique restaurants in the dataset occuring in 1898 transactions"
   ]
  },
  {
   "cell_type": "markdown",
   "id": "d88c60e7",
   "metadata": {},
   "source": [
    "### Univariate Analysis"
   ]
  },
  {
   "cell_type": "code",
   "execution_count": 20,
   "id": "6732f7e3",
   "metadata": {},
   "outputs": [
    {
     "data": {
      "image/png": "[encoded data removed]",
      "text/plain": [
       "<Figure size 720x360 with 1 Axes>"
      ]
     },
     "metadata": {
      "needs_background": "light"
     },
     "output_type": "display_data"
    }
   ],
   "source": [
    "plt.figure(figsize = (10,5))\n",
    "plt.xticks(rotation = 90)\n",
    "sns.countplot(data = df, x = 'cuisine_type');"
   ]
  },
  {
   "cell_type": "code",
   "execution_count": 21,
   "id": "8696db9c",
   "metadata": {},
   "outputs": [
    {
     "data": {
      "text/plain": [
       "American          584\n",
       "Japanese          470\n",
       "Italian           298\n",
       "Chinese           215\n",
       "Mexican            77\n",
       "Indian             73\n",
       "Middle Eastern     49\n",
       "Mediterranean      46\n",
       "Thai               19\n",
       "French             18\n",
       "Southern           17\n",
       "Korean             13\n",
       "Spanish            12\n",
       "Vietnamese          7\n",
       "Name: cuisine_type, dtype: int64"
      ]
     },
     "execution_count": 21,
     "metadata": {},
     "output_type": "execute_result"
    }
   ],
   "source": [
    "df['cuisine_type'].value_counts()"
   ]
  },
  {
   "cell_type": "markdown",
   "id": "63fde727",
   "metadata": {},
   "source": [
    "#### Observations:\n",
    "* American cuisines have the highest count in the cuisine_type column \n",
    "* The lowest count for is for Vietnamese cuisine "
   ]
  },
  {
   "cell_type": "code",
   "execution_count": 22,
   "id": "0ee60c28",
   "metadata": {},
   "outputs": [
    {
     "data": {
      "image/png": "[encoded data removed]",
      "text/plain": [
       "<Figure size 432x288 with 1 Axes>"
      ]
     },
     "metadata": {
      "needs_background": "light"
     },
     "output_type": "display_data"
    }
   ],
   "source": [
    "sns.histplot(data=df, x= 'cost_of_the_order', kde = True);"
   ]
  },
  {
   "cell_type": "code",
   "execution_count": 24,
   "id": "04641e07",
   "metadata": {},
   "outputs": [
    {
     "data": {
      "text/plain": [
       "count   1898.000\n",
       "mean      16.499\n",
       "std        7.484\n",
       "min        4.470\n",
       "25%       12.080\n",
       "50%       14.140\n",
       "75%       22.297\n",
       "max       35.410\n",
       "Name: cost_of_the_order, dtype: float64"
      ]
     },
     "execution_count": 24,
     "metadata": {},
     "output_type": "execute_result"
    }
   ],
   "source": [
    "df['cost_of_the_order'].describe()"
   ]
  },
  {
   "cell_type": "code",
   "execution_count": 25,
   "id": "4e468ab9",
   "metadata": {},
   "outputs": [
    {
     "data": {
      "text/plain": [
       "12.180    86\n",
       "12.130    82\n",
       "12.230    47\n",
       "24.200    42\n",
       "29.100    37\n",
       "          ..\n",
       "5.480      1\n",
       "17.070     1\n",
       "6.260      1\n",
       "9.610      1\n",
       "29.590     1\n",
       "Name: cost_of_the_order, Length: 312, dtype: int64"
      ]
     },
     "execution_count": 25,
     "metadata": {},
     "output_type": "execute_result"
    }
   ],
   "source": [
    "df['cost_of_the_order'].value_counts()"
   ]
  },
  {
   "cell_type": "markdown",
   "id": "4d2a75dd",
   "metadata": {},
   "source": [
    "#### Observations:\n",
    "* Cost of order ranges between 4 Dollars and 36 Dollars and has the highest density around $12"
   ]
  },
  {
   "cell_type": "code",
   "execution_count": 29,
   "id": "e6b69e2c",
   "metadata": {},
   "outputs": [
    {
     "data": {
      "image/png": "[encoded data removed]",
      "text/plain": [
       "<Figure size 432x288 with 1 Axes>"
      ]
     },
     "metadata": {
      "needs_background": "light"
     },
     "output_type": "display_data"
    }
   ],
   "source": [
    "sns.countplot(data=df, x='day_of_the_week');"
   ]
  },
  {
   "cell_type": "code",
   "execution_count": 30,
   "id": "e2560520",
   "metadata": {},
   "outputs": [
    {
     "data": {
      "text/plain": [
       "Weekend    1351\n",
       "Weekday     547\n",
       "Name: day_of_the_week, dtype: int64"
      ]
     },
     "execution_count": 30,
     "metadata": {},
     "output_type": "execute_result"
    }
   ],
   "source": [
    "df['day_of_the_week'].value_counts()"
   ]
  },
  {
   "cell_type": "markdown",
   "id": "b093b637",
   "metadata": {},
   "source": [
    "#### Observations: \n",
    "* It is seen that orders placed in the weekends are more than twice as much as those during weekdays"
   ]
  },
  {
   "cell_type": "code",
   "execution_count": 31,
   "id": "e63d5589",
   "metadata": {},
   "outputs": [
    {
     "data": {
      "image/png": "[encoded data removed]",
      "text/plain": [
       "<Figure size 432x288 with 1 Axes>"
      ]
     },
     "metadata": {
      "needs_background": "light"
     },
     "output_type": "display_data"
    }
   ],
   "source": [
    "sns.boxplot(data=df, x='food_preparation_time');"
   ]
  },
  {
   "cell_type": "code",
   "execution_count": 32,
   "id": "e605ce15",
   "metadata": {},
   "outputs": [
    {
     "data": {
      "text/plain": [
       "count   1898.000\n",
       "mean      27.372\n",
       "std        4.632\n",
       "min       20.000\n",
       "25%       23.000\n",
       "50%       27.000\n",
       "75%       31.000\n",
       "max       35.000\n",
       "Name: food_preparation_time, dtype: float64"
      ]
     },
     "execution_count": 32,
     "metadata": {},
     "output_type": "execute_result"
    }
   ],
   "source": [
    "df['food_preparation_time'].describe()"
   ]
  },
  {
   "cell_type": "markdown",
   "id": "ee9ba854",
   "metadata": {},
   "source": [
    "#### Observations: \n",
    "* It is seen that the average time taken to prepare the food is around 26 minutes\n",
    "* The boxplot indicates minimum time taken is 20 minutes and maximum time taken is 35 minutes"
   ]
  },
  {
   "cell_type": "code",
   "execution_count": 33,
   "id": "c7833273",
   "metadata": {},
   "outputs": [
    {
     "data": {
      "image/png": "[encoded data removed]",
      "text/plain": [
       "<Figure size 720x360 with 1 Axes>"
      ]
     },
     "metadata": {
      "needs_background": "light"
     },
     "output_type": "display_data"
    }
   ],
   "source": [
    "plt.figure(figsize = (10,5))\n",
    "sns.countplot(data=df, x='delivery_time');"
   ]
  },
  {
   "cell_type": "code",
   "execution_count": 34,
   "id": "e45d26a7",
   "metadata": {},
   "outputs": [
    {
     "data": {
      "text/plain": [
       "31     41\n",
       "33     49\n",
       "32     59\n",
       "23     77\n",
       "17     78\n",
       "21     81\n",
       "18     83\n",
       "22     85\n",
       "15     87\n",
       "20     88\n",
       "19     90\n",
       "16     90\n",
       "25    120\n",
       "30    133\n",
       "27    138\n",
       "26    141\n",
       "29    148\n",
       "28    148\n",
       "24    162\n",
       "Name: delivery_time, dtype: int64"
      ]
     },
     "execution_count": 34,
     "metadata": {},
     "output_type": "execute_result"
    }
   ],
   "source": [
    "df['delivery_time'].value_counts(ascending=True)"
   ]
  },
  {
   "cell_type": "code",
   "execution_count": 35,
   "id": "85dbb35e",
   "metadata": {},
   "outputs": [
    {
     "data": {
      "text/plain": [
       "count   1898.000\n",
       "mean      24.162\n",
       "std        4.973\n",
       "min       15.000\n",
       "25%       20.000\n",
       "50%       25.000\n",
       "75%       28.000\n",
       "max       33.000\n",
       "Name: delivery_time, dtype: float64"
      ]
     },
     "execution_count": 35,
     "metadata": {},
     "output_type": "execute_result"
    }
   ],
   "source": [
    "df['delivery_time'].describe()"
   ]
  },
  {
   "cell_type": "markdown",
   "id": "3bdca5e7",
   "metadata": {},
   "source": [
    "#### Observations:\n",
    "* Minimum delivery time: 15 mins\n",
    "* Maximum delivery time: 33 mins\n",
    "* Most occured delivery time: 24 mins"
   ]
  },
  {
   "cell_type": "code",
   "execution_count": 36,
   "id": "1d0f41e9",
   "metadata": {},
   "outputs": [
    {
     "data": {
      "text/plain": [
       "restaurant_name\n",
       "Shake Shack                  219\n",
       "The Meatball Shop            132\n",
       "Blue Ribbon Sushi            119\n",
       "Blue Ribbon Fried Chicken     96\n",
       "Parm                          68\n",
       "dtype: int64"
      ]
     },
     "execution_count": 36,
     "metadata": {},
     "output_type": "execute_result"
    }
   ],
   "source": [
    "df.groupby(['restaurant_name']).size().sort_values(ascending = False).head()"
   ]
  },
  {
   "cell_type": "markdown",
   "id": "a2526741",
   "metadata": {},
   "source": [
    "#### Observations: \n",
    "* The top 5 restaurants in terms of number of orders received are Shake Shack, The Meatball Shop, Blue Ribbon Sushi, Bule Ribbon Fried Chicken and Parm"
   ]
  },
  {
   "cell_type": "code",
   "execution_count": 38,
   "id": "702b9c84",
   "metadata": {},
   "outputs": [
    {
     "data": {
      "text/plain": [
       "cuisine_type\n",
       "American    415\n",
       "dtype: int64"
      ]
     },
     "execution_count": 38,
     "metadata": {},
     "output_type": "execute_result"
    }
   ],
   "source": [
    "most_popular_cuisine_weekends=df[df['day_of_the_week']=='Weekend'].groupby(['cuisine_type'])\n",
    "most_popular_cuisine_weekends.size().sort_values(ascending = False).head(1)"
   ]
  },
  {
   "cell_type": "markdown",
   "id": "ac647c47",
   "metadata": {},
   "source": [
    "#### Observations:\n",
    "* American cuisine is the most popular cuisine on weekends"
   ]
  },
  {
   "cell_type": "code",
   "execution_count": 41,
   "id": "b574ebb3",
   "metadata": {},
   "outputs": [
    {
     "name": "stdout",
     "output_type": "stream",
     "text": [
      "The percentage of orders cost more than 20 dollars is 29.24 %\n"
     ]
    }
   ],
   "source": [
    "percentage_of_orders = len(df[df['cost_of_the_order'] > 20])/len(df)*100\n",
    "print(\"The percentage of orders cost more than 20 dollars is\",round(percentage_of_orders,2),\"%\")"
   ]
  },
  {
   "cell_type": "markdown",
   "id": "87330b9f",
   "metadata": {},
   "source": [
    "#### Observations:\n",
    "* 29.24% of orders cost more than 20 Dollars"
   ]
  },
  {
   "cell_type": "code",
   "execution_count": 42,
   "id": "cef1bd72",
   "metadata": {},
   "outputs": [
    {
     "data": {
      "text/plain": [
       "24.161749209694417"
      ]
     },
     "execution_count": 42,
     "metadata": {},
     "output_type": "execute_result"
    }
   ],
   "source": [
    "df['delivery_time'].mean()"
   ]
  },
  {
   "cell_type": "markdown",
   "id": "fcde02e0",
   "metadata": {},
   "source": [
    "#### Observations:\n",
    "* The mean (average) order delivery time is 24.16 minutes"
   ]
  },
  {
   "cell_type": "code",
   "execution_count": 43,
   "id": "5b11a69b",
   "metadata": {},
   "outputs": [
    {
     "data": {
      "text/plain": [
       "52832     13\n",
       "47440     10\n",
       "83287      9\n",
       "250494     8\n",
       "259341     7\n",
       "Name: customer_id, dtype: int64"
      ]
     },
     "execution_count": 43,
     "metadata": {},
     "output_type": "execute_result"
    }
   ],
   "source": [
    "df['customer_id'].value_counts().sort_values(ascending=False).head()"
   ]
  },
  {
   "cell_type": "markdown",
   "id": "18af1f70",
   "metadata": {},
   "source": [
    "#### Observations:\n",
    "* The columns above represent top 5 customer id with the most number of orders placed that should receive the 20% discount vouchers"
   ]
  },
  {
   "cell_type": "markdown",
   "id": "75063e8e",
   "metadata": {},
   "source": [
    "### Multivariate Analysis"
   ]
  },
  {
   "cell_type": "code",
   "execution_count": 44,
   "id": "4e2fb596",
   "metadata": {},
   "outputs": [
    {
     "data": {
      "image/png": "[encoded data removed]",
      "text/plain": [
       "<Figure size 720x432 with 1 Axes>"
      ]
     },
     "metadata": {
      "needs_background": "light"
     },
     "output_type": "display_data"
    }
   ],
   "source": [
    "plt.figure(figsize =(10,6));\n",
    "plt.xticks(rotation=90)\n",
    "sns.boxplot(data=df,x='cuisine_type', y='cost_of_the_order');"
   ]
  },
  {
   "cell_type": "markdown",
   "id": "e04fe79a",
   "metadata": {},
   "source": [
    "#### Observations:\n",
    "* It is seen that the cuisine type Mediterranean has one of the highest cost of orders in the dataset with one of the lowest seen in Japanese"
   ]
  },
  {
   "cell_type": "code",
   "execution_count": 78,
   "id": "8c979ec9",
   "metadata": {},
   "outputs": [
    {
     "data": {
      "image/png": "[encoded data removed]",
      "text/plain": [
       "<Figure size 360x360 with 1 Axes>"
      ]
     },
     "metadata": {
      "needs_background": "light"
     },
     "output_type": "display_data"
    }
   ],
   "source": [
    "sns.catplot(data=df, y='food_preparation_time', x='cuisine_type', kind='bar', ci=False);\n",
    "plt.xticks(rotation=90);"
   ]
  },
  {
   "cell_type": "markdown",
   "id": "8c2b1890",
   "metadata": {},
   "source": [
    "#### Observations:\n",
    "* The graph above shows that Korean and Vietnamese cuisine types are among the ones with least food_preparation time taken "
   ]
  },
  {
   "cell_type": "code",
   "execution_count": 79,
   "id": "55d1d320",
   "metadata": {},
   "outputs": [
    {
     "data": {
      "image/png": "[encoded data removed]",
      "text/plain": [
       "<Figure size 576x288 with 1 Axes>"
      ]
     },
     "metadata": {
      "needs_background": "light"
     },
     "output_type": "display_data"
    }
   ],
   "source": [
    "plt.figure(figsize =(8,4));\n",
    "sns.violinplot(data=df, x='day_of_the_week', y='delivery_time');"
   ]
  },
  {
   "cell_type": "markdown",
   "id": "c6e7fe94",
   "metadata": {},
   "source": [
    "#### Observations:\n",
    "* The graph above shows that compared to the weekends, it takes a bit more time for the food to be delivered in the weekdays"
   ]
  },
  {
   "cell_type": "code",
   "execution_count": 80,
   "id": "c03344e1",
   "metadata": {},
   "outputs": [
    {
     "data": {
      "image/png": "[encoded data removed]",
      "text/plain": [
       "<Figure size 576x288 with 1 Axes>"
      ]
     },
     "metadata": {
      "needs_background": "light"
     },
     "output_type": "display_data"
    }
   ],
   "source": [
    "plt.figure(figsize =(8,4));\n",
    "sns.pointplot(data=df, x='rating', y='delivery_time', ci=False);"
   ]
  },
  {
   "cell_type": "markdown",
   "id": "f7607169",
   "metadata": {},
   "source": [
    "#### Observations:\n",
    "* Delivery time for restaurants with a rating of 3 is the highest while that of rating 4 is the lowest"
   ]
  },
  {
   "cell_type": "code",
   "execution_count": 85,
   "id": "db1a6dca",
   "metadata": {},
   "outputs": [
    {
     "data": {
      "image/png": "[encoded data removed]",
      "text/plain": [
       "<Figure size 576x288 with 1 Axes>"
      ]
     },
     "metadata": {
      "needs_background": "light"
     },
     "output_type": "display_data"
    }
   ],
   "source": [
    "plt.figure(figsize =(8,4));\n",
    "sns.pointplot(data=df, x='rating', y='food_preparation_time',kind='point',ci=False);"
   ]
  },
  {
   "cell_type": "markdown",
   "id": "c3974f1a",
   "metadata": {},
   "source": [
    "#### Observations:\n",
    "* Restaurants with rating of 5 take the least time to prepare food while those with a rating of 3 take the most time"
   ]
  },
  {
   "cell_type": "code",
   "execution_count": 88,
   "id": "fc6e7ec1",
   "metadata": {},
   "outputs": [
    {
     "data": {
      "image/png": "[encoded data removed]",
      "text/plain": [
       "<Figure size 576x288 with 1 Axes>"
      ]
     },
     "metadata": {
      "needs_background": "light"
     },
     "output_type": "display_data"
    }
   ],
   "source": [
    "plt.figure(figsize=(8,4));\n",
    "sns.pointplot(data=df, x='rating',y='cost_of_the_order',ci=False);"
   ]
  },
  {
   "cell_type": "markdown",
   "id": "1287ddb5",
   "metadata": {},
   "source": [
    "#### Observations:\n",
    "* Cost of order for restaurants with a rating of 5 is the highest while that of restaurants with a rating of 3 is one of the lowest"
   ]
  },
  {
   "cell_type": "code",
   "execution_count": 91,
   "id": "8a9b00f8",
   "metadata": {},
   "outputs": [
    {
     "data": {
      "image/png": "[encoded data removed]",
      "text/plain": [
       "<Figure size 432x288 with 1 Axes>"
      ]
     },
     "metadata": {
      "needs_background": "light"
     },
     "output_type": "display_data"
    }
   ],
   "source": [
    "plt.xticks(rotation=90);\n",
    "sns.pointplot(data=df, x='cuisine_type', y='cost_of_the_order',kind='point',ci=False,);"
   ]
  },
  {
   "cell_type": "code",
   "execution_count": 92,
   "id": "56ed13cd",
   "metadata": {},
   "outputs": [
    {
     "data": {
      "image/png": "[encoded data removed]",
      "text/plain": [
       "<Figure size 360x360 with 1 Axes>"
      ]
     },
     "metadata": {
      "needs_background": "light"
     },
     "output_type": "display_data"
    }
   ],
   "source": [
    "sns.catplot(data=df, x='cuisine_type', y='cost_of_the_order',kind='bar',ci=False, palette='pastel');\n",
    "plt.xticks(rotation=90);"
   ]
  },
  {
   "cell_type": "markdown",
   "id": "b4c1c456",
   "metadata": {},
   "source": [
    "#### Observations:\n",
    "* Both the graphs above show that French cuisine type has one of the highest cost of orders whereas that of Vietnamese cuisine type is one of the lowest"
   ]
  },
  {
   "cell_type": "code",
   "execution_count": 63,
   "id": "723fcb57",
   "metadata": {},
   "outputs": [
    {
     "data": {
      "image/png": "[encoded data removed]",
      "text/plain": [
       "<Figure size 432x288 with 2 Axes>"
      ]
     },
     "metadata": {
      "needs_background": "light"
     },
     "output_type": "display_data"
    }
   ],
   "source": [
    "sns.heatmap(data=df [['food_preparation_time','delivery_time','cost_of_the_order',]].corr(),annot=True, cmap='YlGnBu');"
   ]
  },
  {
   "cell_type": "markdown",
   "id": "48750590",
   "metadata": {},
   "source": [
    "#### Observations:\n",
    "* It is seen that cost of order, food preparation time and delivery time are not strongly correlated to be analyzed further"
   ]
  },
  {
   "cell_type": "code",
   "execution_count": 93,
   "id": "e773dc50",
   "metadata": {},
   "outputs": [
    {
     "data": {
      "text/plain": [
       "restaurant_name\n",
       "Blue Ribbon Fried Chicken   4.328\n",
       "Blue Ribbon Sushi           4.219\n",
       "Parm                        4.128\n",
       "RedFarm Broadway            4.244\n",
       "RedFarm Hudson              4.176\n",
       "Shake Shack                 4.278\n",
       "The Meatball Shop           4.512\n",
       "Name: rating, dtype: float64"
      ]
     },
     "execution_count": 93,
     "metadata": {},
     "output_type": "execute_result"
    }
   ],
   "source": [
    "count50 = df.groupby(\"restaurant_name\").filter(lambda x:len(x)>50)[['restaurant_name','rating']]\n",
    "count50 = count50[count50['rating']!='Not given'].astype({'rating':'float'})\n",
    "rate50 = count50.groupby(\"restaurant_name\")['rating'].mean()\n",
    "rate50[rate50>4]"
   ]
  },
  {
   "cell_type": "markdown",
   "id": "4eaab3f9",
   "metadata": {},
   "source": [
    "#### Observations:\n",
    "* Blue Ribbon Fried Chicken, Blue Ribbon Sushi, Parm, RedFarm Broadway, RedFarm Hudson, Shake Shack andThe Meatball Shop are the restaurants that fulfill the promotional offer criteria of having a rating count of more than 50 with an average rating greater than 4"
   ]
  },
  {
   "cell_type": "code",
   "execution_count": 94,
   "id": "86b35abd",
   "metadata": {},
   "outputs": [
    {
     "name": "stdout",
     "output_type": "stream",
     "text": [
      "The net revenue of company is $ 6166.303\n"
     ]
    }
   ],
   "source": [
    "cost1=df[df['cost_of_the_order']>20]['cost_of_the_order']\n",
    "cost2=df[(df['cost_of_the_order']>5) & (df['cost_of_the_order']<=20)]['cost_of_the_order']\n",
    "net=cost1.sum()*0.25 +cost2.sum()*0.15\n",
    "print(\"The net revenue of company is $\", net)"
   ]
  },
  {
   "cell_type": "markdown",
   "id": "b0d8f691",
   "metadata": {},
   "source": [
    "#### Observations:\n",
    "* The net revenue generated by the company across all orders that charges the restaurant 25% on the orders having cost greater than 20 dollars and 15% on the orders having cost greater than 5 dollars is $6166.30"
   ]
  },
  {
   "cell_type": "code",
   "execution_count": 95,
   "id": "4f60c4d1",
   "metadata": {},
   "outputs": [
    {
     "name": "stdout",
     "output_type": "stream",
     "text": [
      "The percentage of orders take more than 60 minutes is 10.54 %\n"
     ]
    }
   ],
   "source": [
    "df['total_time'] = df['food_preparation_time']+df['delivery_time']\n",
    "orders_more_than_60 = len(df[df['total_time']>60])/len(df)*100\n",
    "print(\"The percentage of orders take more than 60 minutes is\",round(orders_more_than_60,2),\"%\")"
   ]
  },
  {
   "cell_type": "markdown",
   "id": "1e2d98a7",
   "metadata": {},
   "source": [
    "#### Observations:\n",
    "* Around 10.54% of food orders take more than 60 minutes to get delivered from the time the order is placed (from preparation to delivery of the food)"
   ]
  },
  {
   "cell_type": "code",
   "execution_count": 96,
   "id": "52236d1d",
   "metadata": {},
   "outputs": [
    {
     "name": "stdout",
     "output_type": "stream",
     "text": [
      "The mean delivery time vary during weekdays and weekends is 5.87 seconds.\n"
     ]
    }
   ],
   "source": [
    "Weekdaymeantime = df[df['day_of_the_week']=='Weekday']['delivery_time'].mean()\n",
    "Weekendmeantime = df[df['day_of_the_week']=='Weekend']['delivery_time'].mean()\n",
    "varytime = Weekdaymeantime-Weekendmeantime\n",
    "print(\"The mean delivery time vary during weekdays and weekends is\",round(varytime,2),\"seconds.\")"
   ]
  },
  {
   "cell_type": "markdown",
   "id": "fad2566a",
   "metadata": {},
   "source": [
    "#### Observations:\n",
    "* The results of our analysis show that the mean delivery time vary during weekdays and weekends is around 5.87 seconds"
   ]
  },
  {
   "cell_type": "markdown",
   "id": "259ebe9b",
   "metadata": {},
   "source": [
    "### Conclusions:\n",
    "* The top 5 restaurants by number of orders received are Shake Shack, The Meatball Shop, Blue Ribbon Sushi, Bule Ribbon Fried Chicken, and Parm with their favorite weekend American dishes. \n",
    "* The percentage of orders that cost over $20 was 29.24%, and the highest number of orders received by most frequent customers was 13. \n",
    "* The Meatball Store had the highest rating of 4.512. \n",
    "* The net revenue of the business is 6,166.30 dollars.\n",
    "* The average delivery time for orders is 24.16 minutes, and the average delivery time for weekdays and weekends is 5.87 minutes. The rate of orders lasting more than 60 minutes is 10.54%.\n"
   ]
  },
  {
   "cell_type": "markdown",
   "id": "b054d1da",
   "metadata": {},
   "source": [
    "### Recommendations:\n",
    "*  They can give special offers to the top 5 restaurants with the highest number of orders. Also, They can enourage restaurants to make special discount offers on American Cuisine on the weekends.\n",
    "* The most number of orders are below 20 dollars. So they can apply some discounnt over 20 dollar orders to increase the number of orders. Also They can give loyalty cards to customers over 10 orders to get their loyalty.\n",
    "* They can give special offers to the most highly rated restaurants.\n",
    "* They can bring more segmentation for higher orders to increase the revenue.\n",
    "* They can take less share on the orders deliver before 60 minutes to make sure the orders delivered timely to get more customers satisied. "
   ]
  }
 ],
 "metadata": {
  "kernelspec": {
   "display_name": "Python 3 (ipykernel)",
   "language": "python",
   "name": "python3"
  },
  "language_info": {
   "codemirror_mode": {
    "name": "ipython",
    "version": 3
   },
   "file_extension": ".py",
   "mimetype": "text/x-python",
   "name": "python",
   "nbconvert_exporter": "python",
   "pygments_lexer": "ipython3",
   "version": "3.9.7"
  }
 },
 "nbformat": 4,
 "nbformat_minor": 5
}
