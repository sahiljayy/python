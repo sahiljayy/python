{
 "cells": [
  {
   "cell_type": "code",
   "execution_count": null,
   "id": "f779012f",
   "metadata": {},
   "outputs": [],
   "source": [
    "#Write a program that works out whether if a given year is a leap year"
   ]
  },
  {
   "cell_type": "code",
   "execution_count": null,
   "id": "191b835d",
   "metadata": {},
   "outputs": [],
   "source": [
    "year = int(input(\"Which year do you want to check? \"))\n",
    "\n",
    "if year % 4 == 0:\n",
    "    if year % 100 == 0:\n",
    "        if year % 400 == 0:\n",
    "            print(\"This is a leap year.\")\n",
    "        else:\n",
    "            print(\"This is not a leap year.\")\n",
    "    else:\n",
    "        print(\"This is a leap year.\")\n",
    "else:\n",
    "    print(\"This is not a leap year.\")\n"
   ]
  },
  {
   "cell_type": "code",
   "execution_count": null,
   "id": "52cd03ec",
   "metadata": {},
   "outputs": [],
   "source": []
  }
 ],
 "metadata": {
  "kernelspec": {
   "display_name": "Python 3 (ipykernel)",
   "language": "python",
   "name": "python3"
  },
  "language_info": {
   "codemirror_mode": {
    "name": "ipython",
    "version": 3
   },
   "file_extension": ".py",
   "mimetype": "text/x-python",
   "name": "python",
   "nbconvert_exporter": "python",
   "pygments_lexer": "ipython3",
   "version": "3.9.7"
  }
 },
 "nbformat": 4,
 "nbformat_minor": 5
}
