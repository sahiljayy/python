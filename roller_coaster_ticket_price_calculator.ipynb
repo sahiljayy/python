{
 "cells": [
  {
   "cell_type": "code",
   "execution_count": 3,
   "id": "202fac9c",
   "metadata": {},
   "outputs": [],
   "source": [
    "#determine the eligibility of guests to ride the rollercoaster\n",
    "#Ask if they want to click a picture\n",
    "#Calculate and display their total ticket price"
   ]
  },
  {
   "cell_type": "code",
   "execution_count": 4,
   "id": "e540055b",
   "metadata": {},
   "outputs": [
    {
     "name": "stdout",
     "output_type": "stream",
     "text": [
      "Welcome to the rollercoaster!\n",
      "What is your height in cm? 170\n",
      "You can ride the rollercoaster!\n",
      "What is your age? 23\n",
      "Adult tickets are $12\n",
      "Do you want a photo taken? Y or N: Y\n",
      "Your new bill is $15\n"
     ]
    }
   ],
   "source": [
    "print(\"Welcome to the rollercoaster!\")\n",
    "height = int(input(\"What is your height in cm? \"))\n",
    "bill = 0\n",
    "if height >= 120:\n",
    "    print(\"You can ride the rollercoaster!\")\n",
    "    age = int(input(\"What is your age? \"))\n",
    "    if age > 18:\n",
    "        bill = 12\n",
    "        print(f\"Adult tickets are ${bill}\")\n",
    "    elif 12 <= age <= 18:\n",
    "        bill = 7\n",
    "        print(f\"Youth tickets are ${bill}\")\n",
    "    elif age < 12:\n",
    "        bill = 5\n",
    "        print(f\"Child tickets are ${bill}\")\n",
    "    photo = input(\"Do you want a photo taken? Y or N: \")\n",
    "    if photo == \"Y\":\n",
    "        bill = bill + 3\n",
    "    print(f\"Your new bill is ${bill}\")\n",
    "\n",
    "else:\n",
    "    print(\"Sorry you have to grow taller to ride the rollercoaster\")\n"
   ]
  },
  {
   "cell_type": "code",
   "execution_count": null,
   "id": "d5126df3",
   "metadata": {},
   "outputs": [],
   "source": []
  }
 ],
 "metadata": {
  "kernelspec": {
   "display_name": "Python 3 (ipykernel)",
   "language": "python",
   "name": "python3"
  },
  "language_info": {
   "codemirror_mode": {
    "name": "ipython",
    "version": 3
   },
   "file_extension": ".py",
   "mimetype": "text/x-python",
   "name": "python",
   "nbconvert_exporter": "python",
   "pygments_lexer": "ipython3",
   "version": "3.9.7"
  }
 },
 "nbformat": 4,
 "nbformat_minor": 5
}
