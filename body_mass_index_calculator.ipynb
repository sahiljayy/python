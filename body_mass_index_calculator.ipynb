{
 "cells": [
  {
   "cell_type": "code",
   "execution_count": null,
   "id": "62a857e1",
   "metadata": {},
   "outputs": [],
   "source": [
    "#Write a program that interprets the Body Mass Index (BMI) based on a user's weight and height.\n",
    "#It should tell them the interpretation of their BMI based on the BMI value.\n",
    "#Under 18.5 they are underweight\n",
    "#Over 18.5 but below 25 they have a normal weight\n",
    "#Over 25 but below 30 they are slightly overweight\n",
    "#Over 30 but below 35 they are obese\n",
    "#Above 35 they are clinically obese.\n",
    "#The BMI is calculated by dividing a person's weight (in kg) by the square of their height (in m):"
   ]
  },
  {
   "cell_type": "code",
   "execution_count": null,
   "id": "58bce7a9",
   "metadata": {},
   "outputs": [],
   "source": [
    "height = float(input(\"enter your height in m: \"))\n",
    "weight = float(input(\"enter your weight in kg: \"))\n",
    "\n",
    "bmi = round((weight)/(height**2));\n",
    "\n",
    "if bmi < 18.5:\n",
    "  print(f\"Your bmi is {bmi}, you're underweight!\")\n",
    "elif 18.5<bmi<25:\n",
    "  print(f\"Your bmi is {bmi}, you're normal weight!\") \n",
    "elif 25<bmi<30:\n",
    "  print(f\"Your bmi is {bmi}, you're slightly overweight!\")\n",
    "elif 30<bmi<35:\n",
    "  print(f\"Your bmi is {bmi}, you're obese\")\n",
    "else:\n",
    "  print(f\"Your bmi is {bmi}, you're clinically obese!\")\n",
    "\n"
   ]
  }
 ],
 "metadata": {
  "kernelspec": {
   "display_name": "Python 3 (ipykernel)",
   "language": "python",
   "name": "python3"
  },
  "language_info": {
   "codemirror_mode": {
    "name": "ipython",
    "version": 3
   },
   "file_extension": ".py",
   "mimetype": "text/x-python",
   "name": "python",
   "nbconvert_exporter": "python",
   "pygments_lexer": "ipython3",
   "version": "3.9.7"
  }
 },
 "nbformat": 4,
 "nbformat_minor": 5
}
